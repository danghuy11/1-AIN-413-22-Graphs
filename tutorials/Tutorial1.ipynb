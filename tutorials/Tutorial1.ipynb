{
  "cells": [
    {
      "cell_type": "markdown",
      "metadata": {
        "id": "q9zpe_ayIH1S"
      },
      "source": [
        "## networks on a computer - the networkx module\n",
        "\n",
        "You can use NetworkX to construct and draw graphs that are undirected or directed, with weighted or unweighted edges. An array of functions to analyze graphs is available. This tutorial takes you through a few basic examples and exercises.\n"
      ]
    },
    {
      "cell_type": "code",
      "source": [
        "!pip install networkx"
      ],
      "metadata": {
        "colab": {
          "base_uri": "https://localhost:8080/"
        },
        "id": "LgxFGuCCkIiv",
        "outputId": "7aaaa6c1-6f79-4403-9c58-ac38b181f7a4"
      },
      "execution_count": null,
      "outputs": [
        {
          "output_type": "stream",
          "name": "stdout",
          "text": [
            "Requirement already satisfied: networkx in /usr/local/lib/python3.10/dist-packages (3.1)\n"
          ]
        }
      ]
    },
    {
      "cell_type": "code",
      "execution_count": 1,
      "metadata": {
        "id": "FTXWOD4zIH1W"
      },
      "outputs": [],
      "source": [
        "import networkx as nx\n",
        "import numpy as np\n",
        "import itertools as it\n",
        "import matplotlib.pyplot as plt\n",
        "import os\n",
        "# %matplotlib inline"
      ]
    },
    {
      "cell_type": "markdown",
      "metadata": {
        "id": "gPFDnMKxIH1Y"
      },
      "source": [
        "### access your (gdrive) folder to load additional data sources"
      ]
    },
    {
      "cell_type": "code",
      "execution_count": 8,
      "metadata": {
        "id": "0eoiywfvIH1Y",
        "colab": {
          "base_uri": "https://localhost:8080/"
        },
        "outputId": "b2b068ce-1cda-4960-f61a-d61e63dc74dd"
      },
      "outputs": [
        {
          "output_type": "stream",
          "name": "stdout",
          "text": [
            "Drive already mounted at /content/gdrive; to attempt to forcibly remount, call drive.mount(\"/content/gdrive\", force_remount=True).\n"
          ]
        }
      ],
      "source": [
        "# Run this only in Colab environment\n",
        "from google.colab import drive\n",
        "drive.mount('/content/gdrive')\n",
        "\n",
        "###### Change Path to the location of the data folder ######\n",
        "path = '/content/gdrive/My Drive/grafy/datasets/'\n",
        "\n",
        "###############################################################\n",
        "# for local storage\n",
        "# import os\n",
        "# file_dir = os.path.dirname(os.path.realpath('__file__'))\n",
        "# #For accessing the file inside a sibling folder.\n",
        "# path = '..\\data\\\\'\n",
        "# path = os.path.join(file_dir, path)"
      ]
    },
    {
      "cell_type": "code",
      "execution_count": 9,
      "metadata": {
        "id": "w1FAbeUHIH1Z",
        "colab": {
          "base_uri": "https://localhost:8080/"
        },
        "outputId": "21e49361-985c-4c6b-dd32-efa39927c133"
      },
      "outputs": [
        {
          "output_type": "stream",
          "name": "stdout",
          "text": [
            "/content/gdrive/My Drive/grafy/datasets/\n"
          ]
        }
      ],
      "source": [
        "print(path)"
      ]
    },
    {
      "cell_type": "markdown",
      "metadata": {
        "id": "2DVVFipiIH1Z"
      },
      "source": [
        "### about the networkx module\n",
        "\n",
        "they also have a decent [documentation here](https://networkx.org/documentation/stable/tutorial.html)"
      ]
    },
    {
      "cell_type": "markdown",
      "metadata": {
        "id": "ZP8kA8LSIH1Z"
      },
      "source": [
        "### Creating and drawing undirected graphs"
      ]
    },
    {
      "cell_type": "code",
      "execution_count": 10,
      "metadata": {
        "id": "1-Hjs49wIH1a",
        "colab": {
          "base_uri": "https://localhost:8080/",
          "height": 516
        },
        "outputId": "c6685a45-0c84-4b06-cc20-9b1a68fe1a90"
      },
      "outputs": [
        {
          "output_type": "display_data",
          "data": {
            "text/plain": [
              "<Figure size 640x480 with 1 Axes>"
            ],
            "image/png": "[encoded data removed]"
          },
          "metadata": {}
        }
      ],
      "source": [
        "# a \"plain\" graph is undirected\n",
        "G = nx.Graph()\n",
        "\n",
        "# give each a node a 'name', which is a letter in this case.\n",
        "G.add_node('a')\n",
        "\n",
        "# the add_nodes_from method allows adding nodes from a sequence, in this case a list\n",
        "nodes_to_add = ['b', 'c', 'd']\n",
        "G.add_nodes_from(nodes_to_add)\n",
        "\n",
        "# add edge from 'a' to 'b'\n",
        "# since this graph is undirected, the order doesn't matter here\n",
        "G.add_edge('a', 'b')\n",
        "\n",
        "# just like add_nodes_from, we can add edges from a sequence\n",
        "# edges should be specified as 2-tuples\n",
        "edges_to_add = [('a', 'c'), ('b', 'c'), ('c', 'd')]\n",
        "G.add_edges_from(edges_to_add)\n",
        "\n",
        "# draw the graph\n",
        "nx.draw(G, with_labels=True)"
      ]
    },
    {
      "cell_type": "markdown",
      "metadata": {
        "id": "KlgBRpd6IH1a"
      },
      "source": [
        "There are many optional arguments to the draw function to customize the appearance."
      ]
    },
    {
      "cell_type": "code",
      "execution_count": 11,
      "metadata": {
        "id": "WyoctK6SIH1a",
        "colab": {
          "base_uri": "https://localhost:8080/",
          "height": 516
        },
        "outputId": "57a43ed2-a28e-411f-853a-3e19d21aac00"
      },
      "outputs": [
        {
          "output_type": "display_data",
          "data": {
            "text/plain": [
              "<Figure size 640x480 with 1 Axes>"
            ],
            "image/png": "[encoded data removed]"
          },
          "metadata": {}
        }
      ],
      "source": [
        "nx.draw(G,\n",
        "        with_labels=True,\n",
        "        node_color='blue',\n",
        "        node_size=1600,\n",
        "        font_color='white',\n",
        "        font_size=16,\n",
        "        )"
      ]
    },
    {
      "cell_type": "markdown",
      "metadata": {
        "id": "WeO2zI51IH1b"
      },
      "source": [
        "### A note on naming conventions\n",
        "\n",
        "Usually in Python, variables are named in `snake_case`, i.e. lowercase with underscores separating words. Classes are conventionally named in `CamelCase`, i.e. with the first letter of each word capitalized.\n",
        "\n",
        "Obviously NetworkX doesn't use this convention, often using single capital letters for the names of graphs. This is an example of convention leaking from the world of discrete mathematics. Since most of the documentation you will find online uses this convention, we will follow it as well."
      ]
    },
    {
      "cell_type": "markdown",
      "metadata": {
        "id": "q4Mc-mMZIH1b"
      },
      "source": [
        "### Graph methods\n",
        "\n",
        "The graph object has some properties and methods giving data about the whole graph."
      ]
    },
    {
      "cell_type": "code",
      "execution_count": 12,
      "metadata": {
        "id": "PiAqxS6UIH1b",
        "colab": {
          "base_uri": "https://localhost:8080/"
        },
        "outputId": "1ef6f37f-9c1f-4430-e49d-48d8d5c726e0"
      },
      "outputs": [
        {
          "output_type": "execute_result",
          "data": {
            "text/plain": [
              "NodeView(('a', 'b', 'c', 'd'))"
            ]
          },
          "metadata": {},
          "execution_count": 12
        }
      ],
      "source": [
        "# List all of the nodes\n",
        "G.nodes()"
      ]
    },
    {
      "cell_type": "code",
      "execution_count": 13,
      "metadata": {
        "id": "CdLsSO80IH1b",
        "colab": {
          "base_uri": "https://localhost:8080/"
        },
        "outputId": "a4024860-a00b-4281-aa43-6b2467ec36d3"
      },
      "outputs": [
        {
          "output_type": "execute_result",
          "data": {
            "text/plain": [
              "EdgeView([('a', 'b'), ('a', 'c'), ('b', 'c'), ('c', 'd')])"
            ]
          },
          "metadata": {},
          "execution_count": 13
        }
      ],
      "source": [
        "# List all of the edges\n",
        "G.edges()"
      ]
    },
    {
      "cell_type": "markdown",
      "metadata": {
        "id": "meyRFFRmIH1c"
      },
      "source": [
        "NodeView and EdgeView objects have iterators, so we can use them in `for` loops:"
      ]
    },
    {
      "cell_type": "code",
      "execution_count": 14,
      "metadata": {
        "id": "h68m5aAwIH1c",
        "colab": {
          "base_uri": "https://localhost:8080/"
        },
        "outputId": "80cc2b48-f8d5-4811-d830-71ebc1a12e97"
      },
      "outputs": [
        {
          "output_type": "stream",
          "name": "stdout",
          "text": [
            "a\n",
            "b\n",
            "c\n",
            "d\n"
          ]
        }
      ],
      "source": [
        "for node in G.nodes:\n",
        "    print(node)"
      ]
    },
    {
      "cell_type": "code",
      "execution_count": 15,
      "metadata": {
        "scrolled": true,
        "id": "LMNX0H6rIH1c",
        "colab": {
          "base_uri": "https://localhost:8080/"
        },
        "outputId": "df9343c8-9911-4d49-f0ff-c3d71a674240"
      },
      "outputs": [
        {
          "output_type": "stream",
          "name": "stdout",
          "text": [
            "('a', 'b')\n",
            "('a', 'c')\n",
            "('b', 'c')\n",
            "('c', 'd')\n"
          ]
        }
      ],
      "source": [
        "for edge in G.edges:\n",
        "    print(edge)"
      ]
    },
    {
      "cell_type": "markdown",
      "metadata": {
        "id": "0WhI1KjlIH1d"
      },
      "source": [
        "Note that the edges are given as 2-tuples, the same way we entered them.\n",
        "\n",
        "We can get the number of nodes and edges in a graph using the `number_of_` methods."
      ]
    },
    {
      "cell_type": "code",
      "execution_count": 16,
      "metadata": {
        "id": "MBD2SJcOIH1d",
        "colab": {
          "base_uri": "https://localhost:8080/"
        },
        "outputId": "a2773286-1797-45bc-ce82-e4a5d64c6355"
      },
      "outputs": [
        {
          "output_type": "execute_result",
          "data": {
            "text/plain": [
              "4"
            ]
          },
          "metadata": {},
          "execution_count": 16
        }
      ],
      "source": [
        "G.number_of_nodes()"
      ]
    },
    {
      "cell_type": "code",
      "execution_count": 17,
      "metadata": {
        "id": "46wRSfxBIH1d",
        "colab": {
          "base_uri": "https://localhost:8080/"
        },
        "outputId": "6d6140a2-f2f8-4856-fabc-5548fb076ca6"
      },
      "outputs": [
        {
          "output_type": "execute_result",
          "data": {
            "text/plain": [
              "4"
            ]
          },
          "metadata": {},
          "execution_count": 17
        }
      ],
      "source": [
        "G.number_of_edges()"
      ]
    },
    {
      "cell_type": "markdown",
      "metadata": {
        "id": "gUBcOFDmIH1d"
      },
      "source": [
        "Some graph methods take an edge or node as argument. These provide the graph properties of the given edge or node. For example, the `.neighbors()` method gives the nodes linked to the given node:"
      ]
    },
    {
      "cell_type": "code",
      "execution_count": null,
      "metadata": {
        "id": "EBxK2lOMIH1d"
      },
      "outputs": [],
      "source": [
        "# list of neighbors of node 'b'\n",
        "G.neighbors('b')"
      ]
    },
    {
      "cell_type": "markdown",
      "metadata": {
        "id": "oqZrydERIH1e"
      },
      "source": [
        "For performance reasons, many graph methods return iterators instead of lists. They are convenient to loop over:"
      ]
    },
    {
      "cell_type": "code",
      "execution_count": null,
      "metadata": {
        "id": "KIghKfJSIH1e"
      },
      "outputs": [],
      "source": [
        "for neighbor in G.neighbors('b'):\n",
        "    print(neighbor)"
      ]
    },
    {
      "cell_type": "markdown",
      "metadata": {
        "id": "L2Bh_1GeIH1e"
      },
      "source": [
        "and you can always use the `list` constructor to make a list from an iterator:"
      ]
    },
    {
      "cell_type": "code",
      "execution_count": null,
      "metadata": {
        "id": "a0MsfKQxIH1e"
      },
      "outputs": [],
      "source": [
        "list(G.neighbors('b'))"
      ]
    },
    {
      "cell_type": "markdown",
      "metadata": {
        "id": "OFNCRv4NIH1e"
      },
      "source": [
        "### NetworkX - functions vs. methods\n",
        "\n",
        "The previous data are available via graph *methods*, *i.e.* they are called from the graph object:\n",
        "\n",
        "    G.<method_name>(<arguments>)\n",
        "\n",
        "While several of the most-used NetworkX functions are provided as methods, many more of them are module functions and are called like this:\n",
        "\n",
        "    nx.<function_name>(G, <arguments>)\n",
        "\n",
        "that is, with the graph provided as the first, and maybe only, argument. Here are a couple of examples of NetworkX module functions that provide information about a graph:"
      ]
    },
    {
      "cell_type": "code",
      "execution_count": null,
      "metadata": {
        "id": "l1a0M9kzIH1e",
        "colab": {
          "base_uri": "https://localhost:8080/"
        },
        "outputId": "cc26d228-c4ef-4cb4-e605-d20cf001c152"
      },
      "outputs": [
        {
          "output_type": "execute_result",
          "data": {
            "text/plain": [
              "False"
            ]
          },
          "metadata": {},
          "execution_count": 11
        }
      ],
      "source": [
        "nx.is_tree(G)"
      ]
    },
    {
      "cell_type": "code",
      "execution_count": null,
      "metadata": {
        "id": "XXs3EX0XIH1e",
        "colab": {
          "base_uri": "https://localhost:8080/"
        },
        "outputId": "7a4f47ae-17b8-4fb7-ed2d-a8d823718512"
      },
      "outputs": [
        {
          "output_type": "execute_result",
          "data": {
            "text/plain": [
              "True"
            ]
          },
          "metadata": {},
          "execution_count": 12
        }
      ],
      "source": [
        "nx.is_connected(G)"
      ]
    },
    {
      "cell_type": "markdown",
      "metadata": {
        "id": "hYhJop3IIH1e"
      },
      "source": [
        "### Node and edge existence\n",
        "\n",
        "To check if a node is present in a graph, you can use the `has_node()` method:"
      ]
    },
    {
      "cell_type": "code",
      "execution_count": null,
      "metadata": {
        "id": "sm9a_pUNIH1f"
      },
      "outputs": [],
      "source": [
        "G.has_node('a')"
      ]
    },
    {
      "cell_type": "code",
      "execution_count": null,
      "metadata": {
        "id": "yA9-UO9xIH1f"
      },
      "outputs": [],
      "source": [
        "G.has_node('x')"
      ]
    },
    {
      "cell_type": "markdown",
      "metadata": {
        "id": "0q0h9qewIH1f"
      },
      "source": [
        "Additionally, the loop syntax used above: `for n in G.nodes` suggests another way we can check if a node is in a graph:"
      ]
    },
    {
      "cell_type": "code",
      "execution_count": null,
      "metadata": {
        "id": "q9EKTew2IH1f"
      },
      "outputs": [],
      "source": [
        "'d' in G.nodes"
      ]
    },
    {
      "cell_type": "markdown",
      "metadata": {
        "id": "eAB1FDHKIH1f"
      },
      "source": [
        "Likewise we can check if two nodes are connected by an edge:"
      ]
    },
    {
      "cell_type": "code",
      "execution_count": null,
      "metadata": {
        "id": "hr-uugEHIH1f"
      },
      "outputs": [],
      "source": [
        "G.has_edge('a', 'b')"
      ]
    },
    {
      "cell_type": "code",
      "execution_count": null,
      "metadata": {
        "id": "ujbP0btJIH1g"
      },
      "outputs": [],
      "source": [
        "G.has_edge('a', 'd')"
      ]
    },
    {
      "cell_type": "code",
      "execution_count": null,
      "metadata": {
        "id": "2aEEGUUAIH1g"
      },
      "outputs": [],
      "source": [
        "('c', 'd') in G.edges"
      ]
    },
    {
      "cell_type": "markdown",
      "metadata": {
        "id": "4Uc9G_dhIH1g"
      },
      "source": [
        "### Node degree\n",
        "\n",
        "One of the most important questions we can ask about a node in a graph is how many other nodes it connects to. Using the `.neighbors()` method from above, we could formulate this question as so:"
      ]
    },
    {
      "cell_type": "code",
      "execution_count": null,
      "metadata": {
        "id": "KBElVZcOIH1p"
      },
      "outputs": [],
      "source": [
        "len(list(G.neighbors('a')))"
      ]
    },
    {
      "cell_type": "markdown",
      "metadata": {
        "id": "OOfGKJWOIH1q"
      },
      "source": [
        "but this is such a common task that NetworkX provides us a graph method to do this in a much clearer way:"
      ]
    },
    {
      "cell_type": "code",
      "execution_count": null,
      "metadata": {
        "id": "zKVtdyrzIH1q"
      },
      "outputs": [],
      "source": [
        "G.degree('a')"
      ]
    },
    {
      "cell_type": "markdown",
      "metadata": {
        "id": "WnoTjD3oIH1r"
      },
      "source": [
        "---\n",
        "# EXERCISE 1\n",
        "Often in the context of trees, a node with degree 1 is called a *leaf*.\n",
        "\n",
        "(i) Write a function named `get_leaves` that takes a graph as an argument, loops through the nodes, and returns a list of nodes with degree 1."
      ]
    },
    {
      "cell_type": "code",
      "source": [
        "def get_leaves(G):\n",
        "    #TODO\n",
        "    pass"
      ],
      "metadata": {
        "id": "jFpN7fLUPV17"
      },
      "execution_count": null,
      "outputs": []
    },
    {
      "cell_type": "code",
      "execution_count": null,
      "metadata": {
        "scrolled": true,
        "id": "EwXGgI4_IH1s"
      },
      "outputs": [],
      "source": [
        "# example Graph\n",
        "G = nx.Graph()\n",
        "G.add_edges_from([\n",
        "        ('a', 'b'),\n",
        "        ('a', 'd'),\n",
        "        ('c', 'd'),\n",
        "    ])\n",
        "\n",
        "print(get_leaves(G))\n",
        "\n",
        "# try another Graph made by yourself"
      ]
    },
    {
      "cell_type": "code",
      "execution_count": null,
      "metadata": {
        "id": "0OI8B9WkIH1s"
      },
      "outputs": [],
      "source": [
        "nx.draw(G, with_labels = True)"
      ]
    },
    {
      "cell_type": "markdown",
      "metadata": {
        "id": "SfN3ky3OIH1s"
      },
      "source": [
        "(ii) Generate a second graph on your own and test your function again."
      ]
    },
    {
      "cell_type": "code",
      "execution_count": null,
      "metadata": {
        "id": "AP11MiplIH1s"
      },
      "outputs": [],
      "source": [
        "G_test = nx.Graph()\n",
        "G.add_edges_from([\n",
        "        #TODO\n",
        "    ])\n",
        "\n",
        "print(get_leaves(G))"
      ]
    },
    {
      "cell_type": "code",
      "execution_count": null,
      "metadata": {
        "id": "lbJjUbvCIH1s"
      },
      "outputs": [],
      "source": [
        "nx.draw(G_test, with_labels = True)"
      ]
    },
    {
      "cell_type": "markdown",
      "metadata": {
        "id": "7pBU1K2ZIH1t"
      },
      "source": [
        "---"
      ]
    },
    {
      "cell_type": "markdown",
      "source": [
        "# List comprehension + graphs"
      ],
      "metadata": {
        "id": "ATORUw5IPybX"
      }
    },
    {
      "cell_type": "code",
      "execution_count": null,
      "metadata": {
        "id": "VOLHLaRtIH1t"
      },
      "outputs": [],
      "source": [
        "print(G.nodes())\n",
        "print([G.degree(n) for n in G.nodes()])"
      ]
    },
    {
      "cell_type": "markdown",
      "metadata": {
        "id": "dD41YVdZIH1t"
      },
      "source": [
        "### Node names\n",
        "\n",
        "The node names don't have to be single characters -- they can be strings or integers or any immutable object, and the types can be mixed. The example below uses strings and integers for names."
      ]
    },
    {
      "cell_type": "code",
      "execution_count": null,
      "metadata": {
        "id": "Yk9ckxmZIH1t"
      },
      "outputs": [],
      "source": [
        "G = nx.Graph()\n",
        "\n",
        "G.add_nodes_from(['cat','dog','virus',13])\n",
        "\n",
        "G.add_edge('cat','dog')\n",
        "\n",
        "nx.draw(G, with_labels=True, font_color='white', node_size=1000)"
      ]
    },
    {
      "cell_type": "code",
      "execution_count": null,
      "metadata": {
        "id": "xURyaXmaIH1t"
      },
      "outputs": [],
      "source": [
        "print(G.degrees())"
      ]
    },
    {
      "cell_type": "markdown",
      "metadata": {
        "id": "UaReN8IrIH1t"
      },
      "source": [
        "### Adjacency lists\n",
        "\n",
        "One compact way to represent a graph is an adjacency list. This is most useful for unweighted graphs, directed or undirected. In an adjacency list, each line contains some number of node names. The first node name is the \"source\" and each other node name on the line is a \"target\". For instance, given the following adjacency list:\n",
        "```\n",
        "a d e\n",
        "b c\n",
        "c\n",
        "d\n",
        "e\n",
        "```\n",
        "the edges are as follows:\n",
        "```\n",
        "(a, d)\n",
        "(a, e)\n",
        "(b, c)\n",
        "```\n",
        "The nodes on their own line exist so that we are sure to include any singleton nodes. Note that if our graph is undirected, we only need to specify one direction for each edge. Importantly, whether the graph is directed or undirected is often not contained in the file itself -- you have to infer it. This is one limitation of the format.\n",
        "\n",
        "In the `datasets` directory, there is a file called `friends.adjlist`. It's a plain text file, so you can open it on your computer or in GitHub directly. Make sure your path is set correctly."
      ]
    },
    {
      "cell_type": "code",
      "execution_count": 7,
      "metadata": {
        "id": "huZW8xYIIH1u",
        "colab": {
          "base_uri": "https://localhost:8080/",
          "height": 141
        },
        "outputId": "e2acda63-dcf5-4b69-b3c3-4d9ef6407a23"
      },
      "outputs": [
        {
          "output_type": "error",
          "ename": "FileNotFoundError",
          "evalue": "[Errno 2] No such file or directory: '/content/gdrive/My Drive/grafy/data/friends.adjlist'",
          "traceback": [
            "\u001b[0;31m---------------------------------------------------------------------------\u001b[0m",
            "\u001b[0;31mFileNotFoundError\u001b[0m                         Traceback (most recent call last)",
            "\u001b[0;32m/tmp/ipython-input-3223897423.py\u001b[0m in \u001b[0;36m<cell line: 0>\u001b[0;34m()\u001b[0m\n\u001b[0;32m----> 1\u001b[0;31m \u001b[0mprint\u001b[0m\u001b[0;34m(\u001b[0m\u001b[0mopen\u001b[0m\u001b[0;34m(\u001b[0m\u001b[0mos\u001b[0m\u001b[0;34m.\u001b[0m\u001b[0mpath\u001b[0m\u001b[0;34m.\u001b[0m\u001b[0mjoin\u001b[0m\u001b[0;34m(\u001b[0m\u001b[0mpath\u001b[0m\u001b[0;34m,\u001b[0m \u001b[0;34m'friends.adjlist'\u001b[0m\u001b[0;34m)\u001b[0m\u001b[0;34m)\u001b[0m\u001b[0;34m.\u001b[0m\u001b[0mread\u001b[0m\u001b[0;34m(\u001b[0m\u001b[0;34m)\u001b[0m\u001b[0;34m)\u001b[0m\u001b[0;34m\u001b[0m\u001b[0;34m\u001b[0m\u001b[0m\n\u001b[0m",
            "\u001b[0;31mFileNotFoundError\u001b[0m: [Errno 2] No such file or directory: '/content/gdrive/My Drive/grafy/data/friends.adjlist'"
          ]
        }
      ],
      "source": [
        "\n",
        "print(open(os.path.join(path, 'friends.adjlist')).read())\n"
      ]
    },
    {
      "cell_type": "markdown",
      "metadata": {
        "id": "ihX9L5nwIH1u"
      },
      "source": [
        "NetworkX provides a way to read a graph from an adjacency list: `nx.read_adjlist()`. We will name this graph SG, for social graph."
      ]
    },
    {
      "cell_type": "code",
      "execution_count": null,
      "metadata": {
        "id": "t-K2i1JSIH1u"
      },
      "outputs": [],
      "source": [
        "SG = nx.read_adjlist(os.path.join(path, 'friends.adjlist'))"
      ]
    },
    {
      "cell_type": "markdown",
      "metadata": {
        "id": "2Lo7Cp7SIH1u"
      },
      "source": [
        "We know how to draw this graph:"
      ]
    },
    {
      "cell_type": "code",
      "execution_count": null,
      "metadata": {
        "id": "pwwAHujiIH1u"
      },
      "outputs": [],
      "source": [
        "nx.draw(SG, node_size=1800, node_color='lightblue', with_labels=True)"
      ]
    },
    {
      "cell_type": "markdown",
      "metadata": {
        "id": "MRDeZsl-IH1u"
      },
      "source": [
        "And we know how to get information such as the number of friends linked from a node:"
      ]
    },
    {
      "cell_type": "code",
      "execution_count": null,
      "metadata": {
        "id": "89GQMRdkIH1u"
      },
      "outputs": [],
      "source": [
        "SG.degree('Alice')"
      ]
    },
    {
      "cell_type": "markdown",
      "metadata": {
        "id": "KfzhIxXUIH1u"
      },
      "source": [
        "---\n",
        "# EXERCISE 2\n",
        "\n",
        "Import the karate_elist.txt file using the read_edgelist funtion from networkx.\n",
        "\n",
        "Draw the network."
      ]
    },
    {
      "cell_type": "code",
      "execution_count": null,
      "metadata": {
        "id": "7_ESNkBMIH1u"
      },
      "outputs": [],
      "source": []
    },
    {
      "cell_type": "markdown",
      "metadata": {
        "id": "x4F9vfFsIH1v"
      },
      "source": [
        "---\n",
        "# EXERCISE 3\n",
        "\n",
        "(i) Write a function max_degree that takes a graph as its argument, and returns the name and degree of the node with highest degree."
      ]
    },
    {
      "cell_type": "code",
      "execution_count": null,
      "metadata": {
        "scrolled": false,
        "id": "uw_nrKDSIH1v"
      },
      "outputs": [],
      "source": [
        "def max_degree(G):\n",
        "    # TODO\n",
        "    pass"
      ]
    },
    {
      "cell_type": "code",
      "execution_count": null,
      "metadata": {
        "scrolled": false,
        "id": "ry3ZEzHnIH1v"
      },
      "outputs": [],
      "source": [
        "SG = nx.read_adjlist(path + 'friends.adjlist')\n",
        "print(max_degree(SG))"
      ]
    },
    {
      "cell_type": "markdown",
      "metadata": {
        "id": "Xfl-liDXIH1v"
      },
      "source": [
        "\n",
        "\n",
        "ii) Write a function `mutual_friends` that takes a graph and two nodes as arguments, and returns a list (or set) of nodes that are linked to both given nodes. For example, in the graph `SG` drawn above,\n",
        "\n",
        "    mutual_friends(SG, 'Alice', 'Claire') == ['Frank']\n",
        "\n",
        "an empty list or set should be returned in the case where two nodes have no mutual friends, e.g. George and Bob in `SG` drawn above."
      ]
    },
    {
      "cell_type": "code",
      "execution_count": null,
      "metadata": {
        "scrolled": false,
        "id": "CwsthEb3IH1v"
      },
      "outputs": [],
      "source": [
        "def mutual_friends(G, node_1, node_2):\n",
        "    # TODO\n",
        "    pass"
      ]
    },
    {
      "cell_type": "code",
      "execution_count": null,
      "metadata": {
        "scrolled": true,
        "id": "phA12b8YIH1v"
      },
      "outputs": [],
      "source": [
        "SG = nx.read_adjlist(path + 'friends.adjlist')\n",
        "print(mutual_friends(SG, 'Alice', 'Claire'))\n",
        "print(mutual_friends(SG, 'George', 'Bob'))\n",
        "print(mutual_friends(SG, 'Claire', 'George'))"
      ]
    },
    {
      "cell_type": "markdown",
      "metadata": {
        "id": "k27udEHPIH1v"
      },
      "source": [
        "iii) Take the Karate network as an input and find at least one pair of nodes that have mutual friends and one pair without.\n",
        "\n",
        "---\n"
      ]
    },
    {
      "cell_type": "code",
      "execution_count": null,
      "metadata": {
        "id": "hSULM1f5IH1v"
      },
      "outputs": [],
      "source": []
    },
    {
      "cell_type": "markdown",
      "metadata": {
        "id": "ZKHNMj6WIH1z"
      },
      "source": [
        "### degree and degree distribution\n",
        "\n",
        "we start with a very simple network for which we can actually check the networkx results by looking at the it:"
      ]
    },
    {
      "cell_type": "code",
      "execution_count": null,
      "metadata": {
        "id": "XcINaH9ZIH1z"
      },
      "outputs": [],
      "source": [
        "# G = nx.Graph()\n",
        "\n",
        "# G.add_nodes_from(['a','b','c','d','e', 'f'])\n",
        "\n",
        "# G.add_edges_from([('a','b'),('b','c'),('a','c'),('a','d'),('c','e')])\n",
        "\n",
        "\n",
        "G = nx.Graph()\n",
        "\n",
        "G.add_nodes_from([i for i in range(1,11)])\n",
        "\n",
        "G.add_edges_from([(1,2),(2,3),(2,4),(2,5),(3,6),(5,6),(5,7),(7,9),(7,8),(8,9)])\n",
        "\n",
        "nx.draw(G, with_labels=True)"
      ]
    },
    {
      "cell_type": "markdown",
      "metadata": {
        "id": "0NCEkfmCIH1z"
      },
      "source": [
        "there are two redundant ways of receiving the degrees:"
      ]
    },
    {
      "cell_type": "code",
      "execution_count": null,
      "metadata": {
        "id": "NOvngr9eIH1z"
      },
      "outputs": [],
      "source": [
        "# as a method:\n",
        "print(dict(G.degree()))\n",
        "\n",
        "# as a function\n",
        "print(dict(nx.degree(G)))"
      ]
    },
    {
      "cell_type": "markdown",
      "metadata": {
        "id": "XaV2VAHIIH1z"
      },
      "source": [
        "sorting the nodes according to their degree:"
      ]
    },
    {
      "cell_type": "code",
      "execution_count": null,
      "metadata": {
        "id": "ACw4lhnfIH1z"
      },
      "outputs": [],
      "source": [
        "print(sorted(dict(G.degree()).items()))\n"
      ]
    },
    {
      "cell_type": "markdown",
      "metadata": {
        "id": "gIwQrjVAIH10"
      },
      "source": [
        "simple sorting of the dictionary only leads to a sorting of node names!\n",
        "\n",
        "There are multiple ways to sort a dictionary by values. One is by the so called\n",
        "anonymous lambda function:"
      ]
    },
    {
      "cell_type": "code",
      "execution_count": null,
      "metadata": {
        "id": "eVfnPdNiIH10"
      },
      "outputs": [],
      "source": [
        "print(sorted(dict(G.degree()).items(),key = lambda x: x[1], reverse = True))\n"
      ]
    },
    {
      "cell_type": "markdown",
      "metadata": {
        "id": "XVtdAvnTIH10"
      },
      "source": [
        "reverse = True makes sure that it starts with the highest value"
      ]
    },
    {
      "cell_type": "markdown",
      "metadata": {
        "id": "S_YJYb3jIH10"
      },
      "source": [
        "degree distrubution"
      ]
    },
    {
      "cell_type": "code",
      "execution_count": null,
      "metadata": {
        "id": "2SK0XUGFIH10"
      },
      "outputs": [],
      "source": [
        "# counting the number of neighbors:\n",
        "l_k = list(dict(G.degree()).values())\n",
        "print('all occuring degrees: ', l_k)\n",
        "\n",
        "# the set operation makes entries unique\n",
        "s_k = set(l_k)\n",
        "print('set of degrees', s_k)\n",
        "\n",
        "# # counting the number of neighbors and store it into a dict\n",
        "dict_k_frequency = {}\n",
        "for k in s_k:\n",
        "    dict_k_frequency[k] = l_k.count(k)\n",
        "\n",
        "print('dictionary with degrees as keys and frequency as values: ', dict_k_frequency)\n",
        "\n",
        "# note, for larger lists (N>1000) the .count method becomes inefficient\n",
        "# use the coolection.Counter module instead"
      ]
    },
    {
      "cell_type": "code",
      "execution_count": null,
      "metadata": {
        "id": "4kqj6RRmIH11"
      },
      "outputs": [],
      "source": [
        "# plot the degree distribution as a bar plot\n",
        "\n",
        "plt.bar(dict_k_frequency.keys(), dict_k_frequency.values(),width=.4)\n",
        "plt.xlabel('degree',fontsize = 16)\n",
        "plt.ylabel('frequency',fontsize = 16)\n"
      ]
    },
    {
      "cell_type": "code",
      "execution_count": null,
      "metadata": {
        "id": "fxTbVwBDIH11"
      },
      "outputs": [],
      "source": []
    },
    {
      "cell_type": "markdown",
      "metadata": {
        "id": "ABvq90QWIH11"
      },
      "source": [
        "---\n",
        "# EXERCISE 4\n",
        "\n",
        "Write a function that gets a Graph object as input and\n",
        "\n",
        "returns the average degree and the standard deviation -\n",
        "\n",
        "Test your function with the karate network.\n",
        "\n",
        "Plot the degree distribution of the karate network\n",
        "\n",
        "---"
      ]
    },
    {
      "cell_type": "code",
      "execution_count": null,
      "metadata": {
        "id": "zUqif7HPIH11"
      },
      "outputs": [],
      "source": [
        "def avgDegree_std(G):\n",
        "    # TODO\n",
        "    pass"
      ]
    },
    {
      "cell_type": "code",
      "execution_count": null,
      "metadata": {
        "id": "nauqPaJrIH11"
      },
      "outputs": [],
      "source": []
    },
    {
      "cell_type": "code",
      "execution_count": null,
      "metadata": {
        "id": "Ly0GhtQ0IH11"
      },
      "outputs": [],
      "source": []
    }
  ],
  "metadata": {
    "kernelspec": {
      "display_name": "Python 3.9.7 ('base')",
      "language": "python",
      "name": "python3"
    },
    "language_info": {
      "codemirror_mode": {
        "name": "ipython",
        "version": 3
      },
      "file_extension": ".py",
      "mimetype": "text/x-python",
      "name": "python",
      "nbconvert_exporter": "python",
      "pygments_lexer": "ipython3",
      "version": "3.9.7"
    },
    "vscode": {
      "interpreter": {
        "hash": "ad2bdc8ecc057115af97d19610ffacc2b4e99fae6737bb82f5d7fb13d2f2c186"
      }
    },
    "colab": {
      "provenance": []
    }
  },
  "nbformat": 4,
  "nbformat_minor": 0
}