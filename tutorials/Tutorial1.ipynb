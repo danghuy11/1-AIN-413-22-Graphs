{
  "cells": [
    {
      "cell_type": "markdown",
      "metadata": {
        "id": "q9zpe_ayIH1S"
      },
      "source": [
        "## networks on a computer - the networkx module\n",
        "\n",
        "You can use NetworkX to construct and draw graphs that are undirected or directed, with weighted or unweighted edges. An array of functions to analyze graphs is available. This tutorial takes you through a few basic examples and exercises.\n"
      ]
    },
    {
      "cell_type": "code",
      "source": [
        "!pip install networkx"
      ],
      "metadata": {
        "colab": {
          "base_uri": "https://localhost:8080/"
        },
        "id": "LgxFGuCCkIiv",
        "outputId": "85f65e99-fc2d-4504-b2fd-eba9ef635d39"
      },
      "execution_count": 6,
      "outputs": [
        {
          "output_type": "stream",
          "name": "stdout",
          "text": [
            "Requirement already satisfied: networkx in /usr/local/lib/python3.12/dist-packages (3.5)\n"
          ]
        }
      ]
    },
    {
      "cell_type": "code",
      "execution_count": 7,
      "metadata": {
        "id": "FTXWOD4zIH1W"
      },
      "outputs": [],
      "source": [
        "import networkx as nx\n",
        "import numpy as np\n",
        "import itertools as it\n",
        "import matplotlib.pyplot as plt\n",
        "import os\n",
        "# %matplotlib inline"
      ]
    },
    {
      "cell_type": "markdown",
      "metadata": {
        "id": "gPFDnMKxIH1Y"
      },
      "source": [
        "### access your (gdrive) folder to load additional data sources"
      ]
    },
    {
      "cell_type": "code",
      "execution_count": 57,
      "metadata": {
        "id": "0eoiywfvIH1Y",
        "colab": {
          "base_uri": "https://localhost:8080/"
        },
        "outputId": "cd064c15-1c67-41f0-bb3e-03548458cea3"
      },
      "outputs": [
        {
          "output_type": "stream",
          "name": "stdout",
          "text": [
            "Drive already mounted at /content/gdrive; to attempt to forcibly remount, call drive.mount(\"/content/gdrive\", force_remount=True).\n"
          ]
        }
      ],
      "source": [
        "# Run this only in Colab environment\n",
        "from google.colab import drive\n",
        "drive.mount('/content/gdrive')\n",
        "\n",
        "###### Change Path to the location of the data folder ######\n",
        "path = '/content/gdrive/My Drive/Grafove algoritmy/data/'\n",
        "\n",
        "###############################################################\n",
        "# for local storage\n",
        "# import os\n",
        "# file_dir = os.path.dirname(os.path.realpath('__file__'))\n",
        "# #For accessing the file inside a sibling folder.\n",
        "# path = '..\\data\\\\'\n",
        "# path = os.path.join(file_dir, path)"
      ]
    },
    {
      "cell_type": "code",
      "execution_count": 58,
      "metadata": {
        "id": "w1FAbeUHIH1Z",
        "colab": {
          "base_uri": "https://localhost:8080/"
        },
        "outputId": "e85e56fc-5be9-4926-b21a-3bb29aae3b59"
      },
      "outputs": [
        {
          "output_type": "stream",
          "name": "stdout",
          "text": [
            "/content/gdrive/My Drive/Grafove algoritmy/data/\n"
          ]
        }
      ],
      "source": [
        "print(path)"
      ]
    },
    {
      "cell_type": "markdown",
      "metadata": {
        "id": "2DVVFipiIH1Z"
      },
      "source": [
        "### about the networkx module\n",
        "\n",
        "they also have a decent [documentation here](https://networkx.org/documentation/stable/tutorial.html)"
      ]
    },
    {
      "cell_type": "markdown",
      "metadata": {
        "id": "ZP8kA8LSIH1Z"
      },
      "source": [
        "### Creating and drawing undirected graphs"
      ]
    },
    {
      "cell_type": "code",
      "execution_count": 10,
      "metadata": {
        "id": "1-Hjs49wIH1a",
        "colab": {
          "base_uri": "https://localhost:8080/",
          "height": 516
        },
        "outputId": "c836a41d-bfa8-486f-b795-0b4439070fc6"
      },
      "outputs": [
        {
          "output_type": "display_data",
          "data": {
            "text/plain": [
              "<Figure size 640x480 with 1 Axes>"
            ],
            "image/png": "[encoded data removed]"
          },
          "metadata": {}
        }
      ],
      "source": [
        "# a \"plain\" graph is undirected\n",
        "G = nx.Graph()\n",
        "\n",
        "# give each a node a 'name', which is a letter in this case.\n",
        "G.add_node('a')\n",
        "\n",
        "# the add_nodes_from method allows adding nodes from a sequence, in this case a list\n",
        "nodes_to_add = ['b', 'c', 'd']\n",
        "G.add_nodes_from(nodes_to_add)\n",
        "\n",
        "# add edge from 'a' to 'b'\n",
        "# since this graph is undirected, the order doesn't matter here\n",
        "G.add_edge('a', 'b')\n",
        "\n",
        "# just like add_nodes_from, we can add edges from a sequence\n",
        "# edges should be specified as 2-tuples\n",
        "edges_to_add = [('a', 'c'), ('b', 'c'), ('c', 'd')]\n",
        "G.add_edges_from(edges_to_add)\n",
        "\n",
        "# draw the graph\n",
        "nx.draw(G, with_labels=True)"
      ]
    },
    {
      "cell_type": "markdown",
      "metadata": {
        "id": "KlgBRpd6IH1a"
      },
      "source": [
        "There are many optional arguments to the draw function to customize the appearance."
      ]
    },
    {
      "cell_type": "code",
      "execution_count": 11,
      "metadata": {
        "id": "WyoctK6SIH1a",
        "colab": {
          "base_uri": "https://localhost:8080/",
          "height": 516
        },
        "outputId": "984faa55-325b-466b-c41d-fdcee27b48fc"
      },
      "outputs": [
        {
          "output_type": "display_data",
          "data": {
            "text/plain": [
              "<Figure size 640x480 with 1 Axes>"
            ],
            "image/png": "[encoded data removed]"
          },
          "metadata": {}
        }
      ],
      "source": [
        "nx.draw(G,\n",
        "        with_labels=True,\n",
        "        node_color='blue',\n",
        "        node_size=1600,\n",
        "        font_color='white',\n",
        "        font_size=16,\n",
        "        )"
      ]
    },
    {
      "cell_type": "markdown",
      "metadata": {
        "id": "WeO2zI51IH1b"
      },
      "source": [
        "### A note on naming conventions\n",
        "\n",
        "Usually in Python, variables are named in `snake_case`, i.e. lowercase with underscores separating words. Classes are conventionally named in `CamelCase`, i.e. with the first letter of each word capitalized.\n",
        "\n",
        "Obviously NetworkX doesn't use this convention, often using single capital letters for the names of graphs. This is an example of convention leaking from the world of discrete mathematics. Since most of the documentation you will find online uses this convention, we will follow it as well."
      ]
    },
    {
      "cell_type": "markdown",
      "metadata": {
        "id": "q4Mc-mMZIH1b"
      },
      "source": [
        "### Graph methods\n",
        "\n",
        "The graph object has some properties and methods giving data about the whole graph."
      ]
    },
    {
      "cell_type": "code",
      "execution_count": 12,
      "metadata": {
        "id": "PiAqxS6UIH1b",
        "colab": {
          "base_uri": "https://localhost:8080/"
        },
        "outputId": "0381abd7-49f5-462c-9667-dd22271ef45c"
      },
      "outputs": [
        {
          "output_type": "execute_result",
          "data": {
            "text/plain": [
              "NodeView(('a', 'b', 'c', 'd'))"
            ]
          },
          "metadata": {},
          "execution_count": 12
        }
      ],
      "source": [
        "# List all of the nodes\n",
        "G.nodes()"
      ]
    },
    {
      "cell_type": "code",
      "execution_count": 13,
      "metadata": {
        "id": "CdLsSO80IH1b",
        "colab": {
          "base_uri": "https://localhost:8080/"
        },
        "outputId": "eb1a691d-3a5b-420e-cd18-b518869f23ec"
      },
      "outputs": [
        {
          "output_type": "execute_result",
          "data": {
            "text/plain": [
              "EdgeView([('a', 'b'), ('a', 'c'), ('b', 'c'), ('c', 'd')])"
            ]
          },
          "metadata": {},
          "execution_count": 13
        }
      ],
      "source": [
        "# List all of the edges\n",
        "G.edges()"
      ]
    },
    {
      "cell_type": "markdown",
      "metadata": {
        "id": "meyRFFRmIH1c"
      },
      "source": [
        "NodeView and EdgeView objects have iterators, so we can use them in `for` loops:"
      ]
    },
    {
      "cell_type": "code",
      "execution_count": 14,
      "metadata": {
        "id": "h68m5aAwIH1c",
        "colab": {
          "base_uri": "https://localhost:8080/"
        },
        "outputId": "5f040bf3-f471-4516-fd57-530c4b878d11"
      },
      "outputs": [
        {
          "output_type": "stream",
          "name": "stdout",
          "text": [
            "a\n",
            "b\n",
            "c\n",
            "d\n"
          ]
        }
      ],
      "source": [
        "for node in G.nodes:\n",
        "    print(node)"
      ]
    },
    {
      "cell_type": "code",
      "execution_count": 15,
      "metadata": {
        "scrolled": true,
        "id": "LMNX0H6rIH1c",
        "colab": {
          "base_uri": "https://localhost:8080/"
        },
        "outputId": "dca7000c-8fa5-4fca-f5bd-8d81a53a51b3"
      },
      "outputs": [
        {
          "output_type": "stream",
          "name": "stdout",
          "text": [
            "('a', 'b')\n",
            "('a', 'c')\n",
            "('b', 'c')\n",
            "('c', 'd')\n"
          ]
        }
      ],
      "source": [
        "for edge in G.edges:\n",
        "    print(edge)"
      ]
    },
    {
      "cell_type": "markdown",
      "metadata": {
        "id": "0WhI1KjlIH1d"
      },
      "source": [
        "Note that the edges are given as 2-tuples, the same way we entered them.\n",
        "\n",
        "We can get the number of nodes and edges in a graph using the `number_of_` methods."
      ]
    },
    {
      "cell_type": "code",
      "execution_count": 16,
      "metadata": {
        "id": "MBD2SJcOIH1d",
        "colab": {
          "base_uri": "https://localhost:8080/"
        },
        "outputId": "f160a460-dd71-4bc2-91d0-ca9167450a3d"
      },
      "outputs": [
        {
          "output_type": "execute_result",
          "data": {
            "text/plain": [
              "4"
            ]
          },
          "metadata": {},
          "execution_count": 16
        }
      ],
      "source": [
        "G.number_of_nodes()"
      ]
    },
    {
      "cell_type": "code",
      "execution_count": 17,
      "metadata": {
        "id": "46wRSfxBIH1d",
        "colab": {
          "base_uri": "https://localhost:8080/"
        },
        "outputId": "c758e29b-3904-4db0-d7b9-958963a5d83d"
      },
      "outputs": [
        {
          "output_type": "execute_result",
          "data": {
            "text/plain": [
              "4"
            ]
          },
          "metadata": {},
          "execution_count": 17
        }
      ],
      "source": [
        "G.number_of_edges()"
      ]
    },
    {
      "cell_type": "markdown",
      "metadata": {
        "id": "gUBcOFDmIH1d"
      },
      "source": [
        "Some graph methods take an edge or node as argument. These provide the graph properties of the given edge or node. For example, the `.neighbors()` method gives the nodes linked to the given node:"
      ]
    },
    {
      "cell_type": "code",
      "execution_count": 18,
      "metadata": {
        "id": "EBxK2lOMIH1d",
        "colab": {
          "base_uri": "https://localhost:8080/"
        },
        "outputId": "70e405f3-b246-476c-c4f2-ae9d4d0d6e0b"
      },
      "outputs": [
        {
          "output_type": "execute_result",
          "data": {
            "text/plain": [
              "<dict_keyiterator at 0x7f769de18950>"
            ]
          },
          "metadata": {},
          "execution_count": 18
        }
      ],
      "source": [
        "# list of neighbors of node 'b'\n",
        "G.neighbors('b')"
      ]
    },
    {
      "cell_type": "markdown",
      "metadata": {
        "id": "oqZrydERIH1e"
      },
      "source": [
        "For performance reasons, many graph methods return iterators instead of lists. They are convenient to loop over:"
      ]
    },
    {
      "cell_type": "code",
      "execution_count": 19,
      "metadata": {
        "id": "KIghKfJSIH1e",
        "colab": {
          "base_uri": "https://localhost:8080/"
        },
        "outputId": "bf98ca86-dca5-4e5f-cf65-ca81611ab12b"
      },
      "outputs": [
        {
          "output_type": "stream",
          "name": "stdout",
          "text": [
            "a\n",
            "c\n"
          ]
        }
      ],
      "source": [
        "for neighbor in G.neighbors('b'):\n",
        "    print(neighbor)"
      ]
    },
    {
      "cell_type": "markdown",
      "metadata": {
        "id": "L2Bh_1GeIH1e"
      },
      "source": [
        "and you can always use the `list` constructor to make a list from an iterator:"
      ]
    },
    {
      "cell_type": "code",
      "execution_count": 20,
      "metadata": {
        "id": "a0MsfKQxIH1e",
        "colab": {
          "base_uri": "https://localhost:8080/"
        },
        "outputId": "472af6d7-aba7-42c9-a04f-fd67d054aa4c"
      },
      "outputs": [
        {
          "output_type": "execute_result",
          "data": {
            "text/plain": [
              "['a', 'c']"
            ]
          },
          "metadata": {},
          "execution_count": 20
        }
      ],
      "source": [
        "list(G.neighbors('b'))"
      ]
    },
    {
      "cell_type": "markdown",
      "metadata": {
        "id": "OFNCRv4NIH1e"
      },
      "source": [
        "### NetworkX - functions vs. methods\n",
        "\n",
        "The previous data are available via graph *methods*, *i.e.* they are called from the graph object:\n",
        "\n",
        "    G.<method_name>(<arguments>)\n",
        "\n",
        "While several of the most-used NetworkX functions are provided as methods, many more of them are module functions and are called like this:\n",
        "\n",
        "    nx.<function_name>(G, <arguments>)\n",
        "\n",
        "that is, with the graph provided as the first, and maybe only, argument. Here are a couple of examples of NetworkX module functions that provide information about a graph:"
      ]
    },
    {
      "cell_type": "code",
      "execution_count": 21,
      "metadata": {
        "id": "l1a0M9kzIH1e",
        "colab": {
          "base_uri": "https://localhost:8080/"
        },
        "outputId": "a4cc7449-30db-427b-d23b-d6dd7bc949ee"
      },
      "outputs": [
        {
          "output_type": "execute_result",
          "data": {
            "text/plain": [
              "False"
            ]
          },
          "metadata": {},
          "execution_count": 21
        }
      ],
      "source": [
        "nx.is_tree(G)"
      ]
    },
    {
      "cell_type": "code",
      "execution_count": 22,
      "metadata": {
        "id": "XXs3EX0XIH1e",
        "colab": {
          "base_uri": "https://localhost:8080/"
        },
        "outputId": "2828f0d0-1ab3-4cd9-bf59-bf9ef5b15482"
      },
      "outputs": [
        {
          "output_type": "execute_result",
          "data": {
            "text/plain": [
              "True"
            ]
          },
          "metadata": {},
          "execution_count": 22
        }
      ],
      "source": [
        "nx.is_connected(G)"
      ]
    },
    {
      "cell_type": "markdown",
      "metadata": {
        "id": "hYhJop3IIH1e"
      },
      "source": [
        "### Node and edge existence\n",
        "\n",
        "To check if a node is present in a graph, you can use the `has_node()` method:"
      ]
    },
    {
      "cell_type": "code",
      "execution_count": 23,
      "metadata": {
        "id": "sm9a_pUNIH1f",
        "colab": {
          "base_uri": "https://localhost:8080/"
        },
        "outputId": "513ba7f3-1e0e-4e44-9a60-4d0234c65df0"
      },
      "outputs": [
        {
          "output_type": "execute_result",
          "data": {
            "text/plain": [
              "True"
            ]
          },
          "metadata": {},
          "execution_count": 23
        }
      ],
      "source": [
        "G.has_node('a')"
      ]
    },
    {
      "cell_type": "code",
      "execution_count": 24,
      "metadata": {
        "id": "yA9-UO9xIH1f",
        "colab": {
          "base_uri": "https://localhost:8080/"
        },
        "outputId": "7e2f0aae-ef9d-4ccc-9dd1-07fda504ec30"
      },
      "outputs": [
        {
          "output_type": "execute_result",
          "data": {
            "text/plain": [
              "False"
            ]
          },
          "metadata": {},
          "execution_count": 24
        }
      ],
      "source": [
        "G.has_node('x')"
      ]
    },
    {
      "cell_type": "markdown",
      "metadata": {
        "id": "0q0h9qewIH1f"
      },
      "source": [
        "Additionally, the loop syntax used above: `for n in G.nodes` suggests another way we can check if a node is in a graph:"
      ]
    },
    {
      "cell_type": "code",
      "execution_count": 25,
      "metadata": {
        "id": "q9EKTew2IH1f",
        "colab": {
          "base_uri": "https://localhost:8080/"
        },
        "outputId": "d61fe44d-fbb4-421e-c8cb-b7f28f350eb1"
      },
      "outputs": [
        {
          "output_type": "execute_result",
          "data": {
            "text/plain": [
              "True"
            ]
          },
          "metadata": {},
          "execution_count": 25
        }
      ],
      "source": [
        "'d' in G.nodes"
      ]
    },
    {
      "cell_type": "markdown",
      "metadata": {
        "id": "eAB1FDHKIH1f"
      },
      "source": [
        "Likewise we can check if two nodes are connected by an edge:"
      ]
    },
    {
      "cell_type": "code",
      "execution_count": 26,
      "metadata": {
        "id": "hr-uugEHIH1f",
        "colab": {
          "base_uri": "https://localhost:8080/"
        },
        "outputId": "ec6aa3f7-494e-44e9-ae2c-fe0bbde688b3"
      },
      "outputs": [
        {
          "output_type": "execute_result",
          "data": {
            "text/plain": [
              "True"
            ]
          },
          "metadata": {},
          "execution_count": 26
        }
      ],
      "source": [
        "G.has_edge('a', 'b')"
      ]
    },
    {
      "cell_type": "code",
      "execution_count": 27,
      "metadata": {
        "id": "ujbP0btJIH1g",
        "colab": {
          "base_uri": "https://localhost:8080/"
        },
        "outputId": "82c615ab-39a7-4ba6-fbfd-c0d94cc5f146"
      },
      "outputs": [
        {
          "output_type": "execute_result",
          "data": {
            "text/plain": [
              "False"
            ]
          },
          "metadata": {},
          "execution_count": 27
        }
      ],
      "source": [
        "G.has_edge('a', 'd')"
      ]
    },
    {
      "cell_type": "code",
      "execution_count": 28,
      "metadata": {
        "id": "2aEEGUUAIH1g",
        "colab": {
          "base_uri": "https://localhost:8080/"
        },
        "outputId": "81bfa110-2dcc-4a98-b133-690bb73ed6fd"
      },
      "outputs": [
        {
          "output_type": "execute_result",
          "data": {
            "text/plain": [
              "True"
            ]
          },
          "metadata": {},
          "execution_count": 28
        }
      ],
      "source": [
        "('c', 'd') in G.edges"
      ]
    },
    {
      "cell_type": "markdown",
      "metadata": {
        "id": "4Uc9G_dhIH1g"
      },
      "source": [
        "### Node degree\n",
        "\n",
        "One of the most important questions we can ask about a node in a graph is how many other nodes it connects to. Using the `.neighbors()` method from above, we could formulate this question as so:"
      ]
    },
    {
      "cell_type": "code",
      "execution_count": 29,
      "metadata": {
        "id": "KBElVZcOIH1p",
        "colab": {
          "base_uri": "https://localhost:8080/"
        },
        "outputId": "a662f48b-a0fd-405d-e17e-d25d2e8436d5"
      },
      "outputs": [
        {
          "output_type": "execute_result",
          "data": {
            "text/plain": [
              "2"
            ]
          },
          "metadata": {},
          "execution_count": 29
        }
      ],
      "source": [
        "len(list(G.neighbors('a')))"
      ]
    },
    {
      "cell_type": "markdown",
      "metadata": {
        "id": "OOfGKJWOIH1q"
      },
      "source": [
        "but this is such a common task that NetworkX provides us a graph method to do this in a much clearer way:"
      ]
    },
    {
      "cell_type": "code",
      "execution_count": 30,
      "metadata": {
        "id": "zKVtdyrzIH1q",
        "colab": {
          "base_uri": "https://localhost:8080/"
        },
        "outputId": "20bfe22f-4ef9-4a7a-b95e-818877784986"
      },
      "outputs": [
        {
          "output_type": "execute_result",
          "data": {
            "text/plain": [
              "2"
            ]
          },
          "metadata": {},
          "execution_count": 30
        }
      ],
      "source": [
        "G.degree('a')"
      ]
    },
    {
      "cell_type": "markdown",
      "metadata": {
        "id": "WnoTjD3oIH1r"
      },
      "source": [
        "---\n",
        "# EXERCISE 1\n",
        "Often in the context of trees, a node with degree 1 is called a *leaf*.\n",
        "\n",
        "(i) Write a function named `get_leaves` that takes a graph as an argument, loops through the nodes, and returns a list of nodes with degree 1."
      ]
    },
    {
      "cell_type": "code",
      "source": [
        "def get_leaves(G):\n",
        "    #TODO\n",
        "    leaves = []\n",
        "    for node in G.nodes:\n",
        "        if G.degree(node) == 1:\n",
        "            leaves.append(node)\n",
        "    return leaves"
      ],
      "metadata": {
        "id": "jFpN7fLUPV17"
      },
      "execution_count": 41,
      "outputs": []
    },
    {
      "cell_type": "code",
      "execution_count": 50,
      "metadata": {
        "scrolled": true,
        "id": "EwXGgI4_IH1s",
        "colab": {
          "base_uri": "https://localhost:8080/"
        },
        "outputId": "059e4afa-92a9-468a-b8c0-1c7beb962259"
      },
      "outputs": [
        {
          "output_type": "stream",
          "name": "stdout",
          "text": [
            "['b', 'c']\n"
          ]
        }
      ],
      "source": [
        "# example Graph\n",
        "G = nx.Graph()\n",
        "G.add_edges_from([\n",
        "        ('a', 'b'),\n",
        "        ('a', 'd'),\n",
        "        ('c', 'd'),\n",
        "    ])\n",
        "\n",
        "print(get_leaves(G))\n",
        "\n",
        "# try another Graph made by yourself"
      ]
    },
    {
      "cell_type": "code",
      "execution_count": 51,
      "metadata": {
        "id": "0OI8B9WkIH1s",
        "colab": {
          "base_uri": "https://localhost:8080/",
          "height": 516
        },
        "outputId": "a486685a-d60b-4560-e21f-6797cecc8320"
      },
      "outputs": [
        {
          "output_type": "display_data",
          "data": {
            "text/plain": [
              "<Figure size 640x480 with 1 Axes>"
            ],
            "image/png": "[encoded data removed]"
          },
          "metadata": {}
        }
      ],
      "source": [
        "nx.draw(G, with_labels = True)"
      ]
    },
    {
      "cell_type": "markdown",
      "metadata": {
        "id": "SfN3ky3OIH1s"
      },
      "source": [
        "(ii) Generate a second graph on your own and test your function again."
      ]
    },
    {
      "cell_type": "code",
      "execution_count": 47,
      "metadata": {
        "id": "AP11MiplIH1s",
        "colab": {
          "base_uri": "https://localhost:8080/"
        },
        "outputId": "413f451c-ad53-42d6-9a16-6d345f71ca38"
      },
      "outputs": [
        {
          "output_type": "stream",
          "name": "stdout",
          "text": [
            "['e']\n"
          ]
        }
      ],
      "source": [
        "G_test = nx.Graph()\n",
        "G_test.add_edges_from([\n",
        "        #TODO\n",
        "        ('a', 'b'),\n",
        "        ('b', 'c'),\n",
        "        ('c', 'd'),\n",
        "        ('a', 'd'),\n",
        "        ('a', 'e')\n",
        "    ])\n",
        "\n",
        "print(get_leaves(G_test))"
      ]
    },
    {
      "cell_type": "code",
      "execution_count": 48,
      "metadata": {
        "id": "lbJjUbvCIH1s",
        "colab": {
          "base_uri": "https://localhost:8080/",
          "height": 516
        },
        "outputId": "99240e5d-d61b-44f2-a120-df42e27c2857"
      },
      "outputs": [
        {
          "output_type": "display_data",
          "data": {
            "text/plain": [
              "<Figure size 640x480 with 1 Axes>"
            ],
            "image/png": "[encoded data removed]"
          },
          "metadata": {}
        }
      ],
      "source": [
        "nx.draw(G_test, with_labels = True)"
      ]
    },
    {
      "cell_type": "markdown",
      "metadata": {
        "id": "7pBU1K2ZIH1t"
      },
      "source": [
        "---"
      ]
    },
    {
      "cell_type": "markdown",
      "source": [
        "# List comprehension + graphs"
      ],
      "metadata": {
        "id": "ATORUw5IPybX"
      }
    },
    {
      "cell_type": "code",
      "execution_count": 52,
      "metadata": {
        "id": "VOLHLaRtIH1t",
        "colab": {
          "base_uri": "https://localhost:8080/"
        },
        "outputId": "9f7951eb-f4fc-4de1-d4d4-c3a860f7931a"
      },
      "outputs": [
        {
          "output_type": "stream",
          "name": "stdout",
          "text": [
            "['a', 'b', 'd', 'c']\n",
            "[2, 1, 2, 1]\n"
          ]
        }
      ],
      "source": [
        "print(G.nodes())\n",
        "print([G.degree(n) for n in G.nodes()])"
      ]
    },
    {
      "cell_type": "markdown",
      "metadata": {
        "id": "dD41YVdZIH1t"
      },
      "source": [
        "### Node names\n",
        "\n",
        "The node names don't have to be single characters -- they can be strings or integers or any immutable object, and the types can be mixed. The example below uses strings and integers for names."
      ]
    },
    {
      "cell_type": "code",
      "execution_count": 54,
      "metadata": {
        "id": "Yk9ckxmZIH1t",
        "colab": {
          "base_uri": "https://localhost:8080/",
          "height": 516
        },
        "outputId": "86478301-e820-495b-abf3-21c373d0c66d"
      },
      "outputs": [
        {
          "output_type": "display_data",
          "data": {
            "text/plain": [
              "<Figure size 640x480 with 1 Axes>"
            ],
            "image/png": "[encoded data removed]"
          },
          "metadata": {}
        }
      ],
      "source": [
        "G = nx.Graph()\n",
        "\n",
        "G.add_nodes_from(['cat','dog','virus',13])\n",
        "\n",
        "G.add_edge('cat','dog')\n",
        "\n",
        "nx.draw(G, with_labels=True, font_color='white', node_size=1000)"
      ]
    },
    {
      "cell_type": "code",
      "execution_count": 55,
      "metadata": {
        "id": "xURyaXmaIH1t",
        "colab": {
          "base_uri": "https://localhost:8080/"
        },
        "outputId": "a80c1ac3-fc38-4658-dc64-14926a3de684"
      },
      "outputs": [
        {
          "output_type": "stream",
          "name": "stdout",
          "text": [
            "{'cat': 1, 'dog': 1, 'virus': 0, 13: 0}\n"
          ]
        }
      ],
      "source": [
        "print(dict(G.degree()))"
      ]
    },
    {
      "cell_type": "markdown",
      "metadata": {
        "id": "UaReN8IrIH1t"
      },
      "source": [
        "### Adjacency lists\n",
        "\n",
        "One compact way to represent a graph is an adjacency list. This is most useful for unweighted graphs, directed or undirected. In an adjacency list, each line contains some number of node names. The first node name is the \"source\" and each other node name on the line is a \"target\". For instance, given the following adjacency list:\n",
        "```\n",
        "a d e\n",
        "b c\n",
        "c\n",
        "d\n",
        "e\n",
        "```\n",
        "the edges are as follows:\n",
        "```\n",
        "(a, d)\n",
        "(a, e)\n",
        "(b, c)\n",
        "```\n",
        "The nodes on their own line exist so that we are sure to include any singleton nodes. Note that if our graph is undirected, we only need to specify one direction for each edge. Importantly, whether the graph is directed or undirected is often not contained in the file itself -- you have to infer it. This is one limitation of the format.\n",
        "\n",
        "In the `datasets` directory, there is a file called `friends.adjlist`. It's a plain text file, so you can open it on your computer or in GitHub directly. Make sure your path is set correctly."
      ]
    },
    {
      "cell_type": "code",
      "execution_count": 59,
      "metadata": {
        "id": "huZW8xYIIH1u",
        "colab": {
          "base_uri": "https://localhost:8080/"
        },
        "outputId": "0707e75a-6adf-460f-b15d-8a71d27d988c"
      },
      "outputs": [
        {
          "output_type": "stream",
          "name": "stdout",
          "text": [
            "George Frank Dennis\n",
            "Dennis Claire Esther\n",
            "Claire Frank Alice Esther\n",
            "Bob Alice\n",
            "Frank Alice\n",
            "Alice\n",
            "Esther\n",
            "Shelly\n",
            "\n"
          ]
        }
      ],
      "source": [
        "\n",
        "print(open(os.path.join(path, 'friends.adjlist')).read())\n"
      ]
    },
    {
      "cell_type": "markdown",
      "metadata": {
        "id": "ihX9L5nwIH1u"
      },
      "source": [
        "NetworkX provides a way to read a graph from an adjacency list: `nx.read_adjlist()`. We will name this graph SG, for social graph."
      ]
    },
    {
      "cell_type": "code",
      "execution_count": 60,
      "metadata": {
        "id": "t-K2i1JSIH1u"
      },
      "outputs": [],
      "source": [
        "SG = nx.read_adjlist(os.path.join(path, 'friends.adjlist'))"
      ]
    },
    {
      "cell_type": "markdown",
      "metadata": {
        "id": "2Lo7Cp7SIH1u"
      },
      "source": [
        "We know how to draw this graph:"
      ]
    },
    {
      "cell_type": "code",
      "execution_count": 61,
      "metadata": {
        "id": "pwwAHujiIH1u",
        "colab": {
          "base_uri": "https://localhost:8080/",
          "height": 516
        },
        "outputId": "0e1b1ad1-9b39-43a1-d147-61d9a2a141fd"
      },
      "outputs": [
        {
          "output_type": "display_data",
          "data": {
            "text/plain": [
              "<Figure size 640x480 with 1 Axes>"
            ],
            "image/png": "[encoded data removed]"
          },
          "metadata": {}
        }
      ],
      "source": [
        "nx.draw(SG, node_size=1800, node_color='lightblue', with_labels=True)"
      ]
    },
    {
      "cell_type": "markdown",
      "metadata": {
        "id": "MRDeZsl-IH1u"
      },
      "source": [
        "And we know how to get information such as the number of friends linked from a node:"
      ]
    },
    {
      "cell_type": "code",
      "execution_count": 62,
      "metadata": {
        "id": "89GQMRdkIH1u",
        "colab": {
          "base_uri": "https://localhost:8080/"
        },
        "outputId": "e2655676-ce47-4378-d86a-faac22531992"
      },
      "outputs": [
        {
          "output_type": "execute_result",
          "data": {
            "text/plain": [
              "3"
            ]
          },
          "metadata": {},
          "execution_count": 62
        }
      ],
      "source": [
        "SG.degree('Alice')"
      ]
    },
    {
      "cell_type": "markdown",
      "metadata": {
        "id": "KfzhIxXUIH1u"
      },
      "source": [
        "---\n",
        "# EXERCISE 2\n",
        "\n",
        "Import the karate_elist.txt file using the read_edgelist funtion from networkx.\n",
        "\n",
        "Draw the network."
      ]
    },
    {
      "cell_type": "code",
      "execution_count": 69,
      "metadata": {
        "id": "7_ESNkBMIH1u",
        "colab": {
          "base_uri": "https://localhost:8080/",
          "height": 516
        },
        "outputId": "3533fd1f-17bd-4bd2-ae69-10daa9f99808"
      },
      "outputs": [
        {
          "output_type": "display_data",
          "data": {
            "text/plain": [
              "<Figure size 640x480 with 1 Axes>"
            ],
            "image/png": "[encoded data removed]"
          },
          "metadata": {}
        }
      ],
      "source": [
        "KG = nx.read_edgelist(os.path.join(path, 'karate_elist.txt'))\n",
        "nx.draw(KG, node_size=500, node_color='lightblue', with_labels=True)"
      ]
    },
    {
      "cell_type": "markdown",
      "metadata": {
        "id": "x4F9vfFsIH1v"
      },
      "source": [
        "---\n",
        "# EXERCISE 3\n",
        "\n",
        "(i) Write a function max_degree that takes a graph as its argument, and returns the name and degree of the node with highest degree."
      ]
    },
    {
      "cell_type": "code",
      "execution_count": null,
      "metadata": {
        "scrolled": false,
        "id": "uw_nrKDSIH1v"
      },
      "outputs": [],
      "source": [
        "def max_degree(G):\n",
        "    # TODO\n",
        "    pass"
      ]
    },
    {
      "cell_type": "code",
      "execution_count": null,
      "metadata": {
        "scrolled": false,
        "id": "ry3ZEzHnIH1v"
      },
      "outputs": [],
      "source": [
        "SG = nx.read_adjlist(path + 'friends.adjlist')\n",
        "print(max_degree(SG))"
      ]
    },
    {
      "cell_type": "markdown",
      "metadata": {
        "id": "Xfl-liDXIH1v"
      },
      "source": [
        "\n",
        "\n",
        "ii) Write a function `mutual_friends` that takes a graph and two nodes as arguments, and returns a list (or set) of nodes that are linked to both given nodes. For example, in the graph `SG` drawn above,\n",
        "\n",
        "    mutual_friends(SG, 'Alice', 'Claire') == ['Frank']\n",
        "\n",
        "an empty list or set should be returned in the case where two nodes have no mutual friends, e.g. George and Bob in `SG` drawn above."
      ]
    },
    {
      "cell_type": "code",
      "execution_count": null,
      "metadata": {
        "scrolled": false,
        "id": "CwsthEb3IH1v"
      },
      "outputs": [],
      "source": [
        "def mutual_friends(G, node_1, node_2):\n",
        "    # TODO\n",
        "    pass"
      ]
    },
    {
      "cell_type": "code",
      "execution_count": null,
      "metadata": {
        "scrolled": true,
        "id": "phA12b8YIH1v"
      },
      "outputs": [],
      "source": [
        "SG = nx.read_adjlist(path + 'friends.adjlist')\n",
        "print(mutual_friends(SG, 'Alice', 'Claire'))\n",
        "print(mutual_friends(SG, 'George', 'Bob'))\n",
        "print(mutual_friends(SG, 'Claire', 'George'))"
      ]
    },
    {
      "cell_type": "markdown",
      "metadata": {
        "id": "k27udEHPIH1v"
      },
      "source": [
        "iii) Take the Karate network as an input and find at least one pair of nodes that have mutual friends and one pair without.\n",
        "\n",
        "---\n"
      ]
    },
    {
      "cell_type": "code",
      "execution_count": null,
      "metadata": {
        "id": "hSULM1f5IH1v"
      },
      "outputs": [],
      "source": []
    },
    {
      "cell_type": "markdown",
      "metadata": {
        "id": "ZKHNMj6WIH1z"
      },
      "source": [
        "### degree and degree distribution\n",
        "\n",
        "we start with a very simple network for which we can actually check the networkx results by looking at the it:"
      ]
    },
    {
      "cell_type": "code",
      "execution_count": null,
      "metadata": {
        "id": "XcINaH9ZIH1z"
      },
      "outputs": [],
      "source": [
        "# G = nx.Graph()\n",
        "\n",
        "# G.add_nodes_from(['a','b','c','d','e', 'f'])\n",
        "\n",
        "# G.add_edges_from([('a','b'),('b','c'),('a','c'),('a','d'),('c','e')])\n",
        "\n",
        "\n",
        "G = nx.Graph()\n",
        "\n",
        "G.add_nodes_from([i for i in range(1,11)])\n",
        "\n",
        "G.add_edges_from([(1,2),(2,3),(2,4),(2,5),(3,6),(5,6),(5,7),(7,9),(7,8),(8,9)])\n",
        "\n",
        "nx.draw(G, with_labels=True)"
      ]
    },
    {
      "cell_type": "markdown",
      "metadata": {
        "id": "0NCEkfmCIH1z"
      },
      "source": [
        "there are two redundant ways of receiving the degrees:"
      ]
    },
    {
      "cell_type": "code",
      "execution_count": null,
      "metadata": {
        "id": "NOvngr9eIH1z"
      },
      "outputs": [],
      "source": [
        "# as a method:\n",
        "print(dict(G.degree()))\n",
        "\n",
        "# as a function\n",
        "print(dict(nx.degree(G)))"
      ]
    },
    {
      "cell_type": "markdown",
      "metadata": {
        "id": "XaV2VAHIIH1z"
      },
      "source": [
        "sorting the nodes according to their degree:"
      ]
    },
    {
      "cell_type": "code",
      "execution_count": null,
      "metadata": {
        "id": "ACw4lhnfIH1z"
      },
      "outputs": [],
      "source": [
        "print(sorted(dict(G.degree()).items()))\n"
      ]
    },
    {
      "cell_type": "markdown",
      "metadata": {
        "id": "gIwQrjVAIH10"
      },
      "source": [
        "simple sorting of the dictionary only leads to a sorting of node names!\n",
        "\n",
        "There are multiple ways to sort a dictionary by values. One is by the so called\n",
        "anonymous lambda function:"
      ]
    },
    {
      "cell_type": "code",
      "execution_count": null,
      "metadata": {
        "id": "eVfnPdNiIH10"
      },
      "outputs": [],
      "source": [
        "print(sorted(dict(G.degree()).items(),key = lambda x: x[1], reverse = True))\n"
      ]
    },
    {
      "cell_type": "markdown",
      "metadata": {
        "id": "XVtdAvnTIH10"
      },
      "source": [
        "reverse = True makes sure that it starts with the highest value"
      ]
    },
    {
      "cell_type": "markdown",
      "metadata": {
        "id": "S_YJYb3jIH10"
      },
      "source": [
        "degree distrubution"
      ]
    },
    {
      "cell_type": "code",
      "execution_count": null,
      "metadata": {
        "id": "2SK0XUGFIH10"
      },
      "outputs": [],
      "source": [
        "# counting the number of neighbors:\n",
        "l_k = list(dict(G.degree()).values())\n",
        "print('all occuring degrees: ', l_k)\n",
        "\n",
        "# the set operation makes entries unique\n",
        "s_k = set(l_k)\n",
        "print('set of degrees', s_k)\n",
        "\n",
        "# # counting the number of neighbors and store it into a dict\n",
        "dict_k_frequency = {}\n",
        "for k in s_k:\n",
        "    dict_k_frequency[k] = l_k.count(k)\n",
        "\n",
        "print('dictionary with degrees as keys and frequency as values: ', dict_k_frequency)\n",
        "\n",
        "# note, for larger lists (N>1000) the .count method becomes inefficient\n",
        "# use the coolection.Counter module instead"
      ]
    },
    {
      "cell_type": "code",
      "execution_count": null,
      "metadata": {
        "id": "4kqj6RRmIH11"
      },
      "outputs": [],
      "source": [
        "# plot the degree distribution as a bar plot\n",
        "\n",
        "plt.bar(dict_k_frequency.keys(), dict_k_frequency.values(),width=.4)\n",
        "plt.xlabel('degree',fontsize = 16)\n",
        "plt.ylabel('frequency',fontsize = 16)\n"
      ]
    },
    {
      "cell_type": "code",
      "execution_count": null,
      "metadata": {
        "id": "fxTbVwBDIH11"
      },
      "outputs": [],
      "source": []
    },
    {
      "cell_type": "markdown",
      "metadata": {
        "id": "ABvq90QWIH11"
      },
      "source": [
        "---\n",
        "# EXERCISE 4\n",
        "\n",
        "Write a function that gets a Graph object as input and\n",
        "\n",
        "returns the average degree and the standard deviation -\n",
        "\n",
        "Test your function with the karate network.\n",
        "\n",
        "Plot the degree distribution of the karate network\n",
        "\n",
        "---"
      ]
    },
    {
      "cell_type": "code",
      "execution_count": null,
      "metadata": {
        "id": "zUqif7HPIH11"
      },
      "outputs": [],
      "source": [
        "def avgDegree_std(G):\n",
        "    # TODO\n",
        "    pass"
      ]
    },
    {
      "cell_type": "code",
      "execution_count": null,
      "metadata": {
        "id": "nauqPaJrIH11"
      },
      "outputs": [],
      "source": []
    },
    {
      "cell_type": "code",
      "execution_count": null,
      "metadata": {
        "id": "Ly0GhtQ0IH11"
      },
      "outputs": [],
      "source": []
    }
  ],
  "metadata": {
    "kernelspec": {
      "display_name": "Python 3.9.7 ('base')",
      "language": "python",
      "name": "python3"
    },
    "language_info": {
      "codemirror_mode": {
        "name": "ipython",
        "version": 3
      },
      "file_extension": ".py",
      "mimetype": "text/x-python",
      "name": "python",
      "nbconvert_exporter": "python",
      "pygments_lexer": "ipython3",
      "version": "3.9.7"
    },
    "vscode": {
      "interpreter": {
        "hash": "ad2bdc8ecc057115af97d19610ffacc2b4e99fae6737bb82f5d7fb13d2f2c186"
      }
    },
    "colab": {
      "provenance": []
    }
  },
  "nbformat": 4,
  "nbformat_minor": 0
}